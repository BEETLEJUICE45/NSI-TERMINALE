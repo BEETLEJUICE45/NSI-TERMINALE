{
 "cells": [
  {
   "cell_type": "markdown",
   "metadata": {},
   "source": [
    "<div class=\"alert alert-info\">\n",
    "\n",
    "**Exercice 1**\n",
    "\n",
    "Pour chacune des fonctions suivantes, proposer un type pour chacun de ses arguments et un type pour ses résultats."
   ]
  },
  {
   "cell_type": "code",
   "execution_count": 2,
   "metadata": {},
   "outputs": [],
   "source": [
    "def f1(t):\n",
    "    return t[0] + 1\n",
    "def f2(x):\n",
    "    return str(3.14 * x)\n",
    "def f3(p):\n",
    "    x, y = p\n",
    "    return 2 * x + y\n",
    "def f4(d,s):\n",
    "    if s != \"toto\":\n",
    "        d[s] += 1\n",
    "    return d[s]"
   ]
  },
  {
   "cell_type": "markdown",
   "metadata": {},
   "source": [
    "<div class=\"alert alert-info\">\n",
    "    \n",
    "**Exercice 2**\n",
    "\n",
    "Écrire une fonction demandant à l’utilisateur la saisie d’un entier. La fonction\n",
    "saisie_entier(question) devra :  \n",
    "✓ Demander à l’utilisateur la saisie d’un entier grâce au texte contenu dans l'argument question  \n",
    "✓ Contrôler que l’utilisateur a bien saisi un entier. Tant que l’utilisateur n’a pas saisi un entier, la fonction\n",
    "repose la même question et affiche le message d’erreur correspond au problème rencontré.  \n",
    "✓ Renvoyer l’entier saisi en retour"
   ]
  },
  {
   "cell_type": "code",
   "execution_count": null,
   "metadata": {},
   "outputs": [],
   "source": []
  },
  {
   "cell_type": "markdown",
   "metadata": {},
   "source": [
    "<div class=\"alert alert-info\">\n",
    "    \n",
    "**Exercice 3**\n",
    "\n",
    "Améliorez votre fonction précédente, en ajoutant deux paramètres, début et fin.  \n",
    "La fonction devient alors saisie_entier_controle(question, début, fin) et doit :  \n",
    "✓ Contrôler que la saisie est bien un entier (comme dans la fonction précédente)  \n",
    "✓ Vérifier que cet entier est bien dans l’intervalle [début, fin]  \n",
    "✓ Si début prend la valeur None, alors cela signifie qu’il n’y a pas de borne inférieure.  \n",
    "✓ Si fin prend la valeur None, cela signifie que l’intervalle n’a pas de borne supérieure."
   ]
  },
  {
   "cell_type": "code",
   "execution_count": null,
   "metadata": {},
   "outputs": [],
   "source": []
  },
  {
   "cell_type": "markdown",
   "metadata": {},
   "source": [
    "<div class=\"alert alert-info\">\n",
    "    \n",
    "**Exercice 4**\n",
    "\n",
    "La fonction suivante affiche une matrice à partir d'une liste M.  \n",
    "La liste M doit :  \n",
    "✓ Être une liste.  \n",
    "✓ Non vide.  \n",
    "✓ Contenir autant de listes qu'il y a de lignes dans la matrice  \n",
    "✓ les listes lignes ne doivent pas être vide  \n",
    "✓ toutes les listes ligne doivent avoir le même nombre d'éléments  \n",
    "✓ Chaque élément de la liste ligne est de type string  \n",
    "✓ Chaque élément de la liste ligne ne contient qu'un seul caratère  \n",
    "✓ Voici une liste M valide : [['A', 'B', 'C'], ['D', 'E', 'F'], ['G', 'H', 'I'], ['J', 'K', 'L']]  \n",
    "Pacez les assertions necessaires dans cette fonction et testez."
   ]
  },
  {
   "cell_type": "code",
   "execution_count": null,
   "metadata": {},
   "outputs": [],
   "source": [
    "def aff_mat_mono(M, compact_h = True, compact_v = True):\n",
    "    '''Affiche une matrice de mono-caractères'''\n",
    "    hauteur = len(M)\n",
    "    largeur = len(M[0])\n",
    "    M_bis = []\n",
    "    space = '' if compact_h else ' '\n",
    "    for ligne in M:\n",
    "        ligne_bis = ''.join([ space + ligne[i] + space for i in range(largeur)])\n",
    "        ligne_bis = ' [' + ligne_bis + '] '\n",
    "        M_bis.append(ligne_bis) \n",
    "        if not compact_v:\n",
    "            M_bis.append(' ')\n",
    "    if not compact_v:\n",
    "        M_bis.pop()\n",
    "    M_bis[0] = '[' + M_bis[0][1:]\n",
    "    M_bis[-1] = M_bis[-1][:-1] + ']'\n",
    "    for ligne in M_bis:\n",
    "        print(ligne)"
   ]
  },
  {
   "cell_type": "code",
   "execution_count": null,
   "metadata": {},
   "outputs": [],
   "source": []
  }
 ],
 "metadata": {
  "kernelspec": {
   "display_name": "Python 3",
   "language": "python",
   "name": "python3"
  },
  "language_info": {
   "codemirror_mode": {
    "name": "ipython",
    "version": 3
   },
   "file_extension": ".py",
   "mimetype": "text/x-python",
   "name": "python",
   "nbconvert_exporter": "python",
   "pygments_lexer": "ipython3",
   "version": "3.7.2"
  }
 },
 "nbformat": 4,
 "nbformat_minor": 2
}
