{
 "cells": [
  {
   "cell_type": "markdown",
   "metadata": {},
   "source": [
    "<div class=\"alert alert-info\">\n",
    "\n",
    "# MISE AU POINT DE PROGRAMMES\n",
    "\n",
    "## Le processus\n",
    "en général on écrit un programme pour résoudre un problème.\n",
    "\n",
    "Cela se passe par étapes :\n",
    "\n",
    "* Comprendre le problème (faire des essais à la main ...)\n",
    "\n",
    "* Mettre au point un algorithme et s'interroger sur sa :\n",
    "\n",
    "        --> Terminaison (être certain que l'algorithme se termine)\n",
    "\n",
    "        --> Correction (être certain que le résultat est la (ou une) solution du problème)\n",
    "\n",
    "        --> Complétude (être certain que l'algorithme reste correct si on modifie par exemple le nombre d'entrées)\n",
    "\n",
    "        --> Complexité (nombres d'opérations que fait l'algorithme )\n",
    "\n",
    "* Écrire le programme ( dans un langage adapté au problème )\n",
    "\n",
    "        --> Choix des bibliothèques nécessaires\n",
    "\n",
    "        --> Choix des noms de variables et de leur portée (globale ou locale)\n",
    "\n",
    "        --> Spécifications des sous programmes\n",
    "\n",
    "        --> Placer des tests (pour voir si les parties du programme testés font bien ce que l'on espère...)\n",
    "\n",
    "        --> Essayer d'anticiper les 'bugs' possibles (division par 0 , portée des variables...)\n",
    "\n",
    "        --> Modifier l'algorithme si ....\n",
    "\n",
    "* Faire de nombreux tests..."
   ]
  },
  {
   "cell_type": "markdown",
   "metadata": {},
   "source": [
    "<div class=\"alert alert-info\">\n",
    "\n",
    "# Un problème : Savoir si un nombre est heureux ou pas\n",
    "\n",
    "## Les nombres heureux :\n",
    "\n",
    "Un entier est dit heureux si, lorsqu'on calcule la somme des carrés de ses chiffres dans son écriture en base dix puis la somme des carrés des chiffres du nombre obtenu et ainsi de suite, on aboutit au nombre 1.\n",
    "\n",
    "(source Wikipédia )\n",
    "\n",
    "Par exemple $7$ est heureux car :  \n",
    "$7^2$ = $49 $ \n",
    "$4^2$ + $9^2$ = $16$ + $81$ = $97$  \n",
    "$9^2$ + $7^2$ = $81$ + $49$ = $130$  \n",
    "$1^2$ + $3^2$ + $0^2$ = $10$  \n",
    "$1^2$ + $0^2$ = $1$  \n",
    "\n",
    "Par contre $4$ n'est pas un nombre heureux :  \n",
    "$4^2$ = $16$ \n",
    "$1^2$ + $6^2$ = $37$  \n",
    "$3^2$ + $7^2$ = $58$  \n",
    "$5^2$ + $8^2$ = $89$  \n",
    "$8^2$ + $9^2$ = $145$  \n",
    "$1^2$ + $4^2$ + $5^2$ = $42$   \n",
    "$4^2$ + $2^2$ = $20$   \n",
    "$2^2$ + $0^2$ = $4$\n",
    "\n",
    "On retrouve $4$ et le cycle de calcul recommence sans fin...\n",
    "\n",
    "On ne peut trouver $1$ ....\n",
    "\n",
    "Vérifiez que $2019$ est un nombre heureux:"
   ]
  },
  {
   "cell_type": "markdown",
   "metadata": {},
   "source": [
    "*Votre réponse ici*  "
   ]
  },
  {
   "cell_type": "markdown",
   "metadata": {},
   "source": [
    "<div class=\"alert alert-info\">\n",
    "\n",
    "## Quelques compléments:\n",
    "\n",
    "Les nombres heureux ont fourni une littérature foisonnante, et en particulier on trouve :\n",
    "\n",
    "    --> Que finalement on tombe sur 1 ou sur l'un des nombres du cycle de 4 ( donc sur 4)."
   ]
  },
  {
   "cell_type": "markdown",
   "metadata": {},
   "source": [
    "<div class=\"alert alert-danger\">\n",
    "\n",
    "## Notre problème\n",
    "\n",
    "En supposant que nous ayons bien compris le concept de nombre heureux :\n",
    "\n",
    "    --> Notre objectif est d'écrire un programme qui nous retourne vrai si le nombre entré est heureux et faux sinon."
   ]
  },
  {
   "cell_type": "markdown",
   "metadata": {},
   "source": [
    "<div class=\"alert alert-info\">\n",
    "\n",
    "## Une première approche\n",
    "\n",
    "La première idée serait :\n",
    "\n",
    "    --> De calculer la somme des carrés des chiffres qui composent le nombre.  \n",
    "\n",
    "    --> De retourner 'vrai' si on trouve 1.  \n",
    "\n",
    "    --> Sinon de recommencer le calcul avec le nombre trouvé.  \n",
    "\n",
    "Quel est l'inconvénient de cet algorithme?"
   ]
  },
  {
   "cell_type": "markdown",
   "metadata": {},
   "source": [
    "*Votre réponse ici*  "
   ]
  },
  {
   "cell_type": "markdown",
   "metadata": {},
   "source": [
    "<div class=\"alert alert-info\">\n",
    "\n",
    "## Une seconde approche\n",
    "\n",
    "Il faut trouver un moyen de régler ce problème...  \n",
    "\n",
    "Nous savons que si un nombre n'est pas heureux il va immanquablement aboutir dans la suite sans fin du 4...  \n",
    "\n",
    "Notre algorithme devient :  \n",
    "\n",
    "    --> De calculer la somme des carrés des chiffres qui composent le nombre.\n",
    "\n",
    "    --> De retourner 'Faux' si le résultat est dans la liste du 4\n",
    "\n",
    "    --> De retourner 'vrai' si on trouve 1\n",
    "\n",
    "    --> Sinon ????"
   ]
  },
  {
   "cell_type": "markdown",
   "metadata": {},
   "source": [
    "Sinon quoi ?  \n",
    "*Votre réponse ici*  \n",
    "    --> "
   ]
  },
  {
   "cell_type": "markdown",
   "metadata": {},
   "source": [
    "<div class=\"alert alert-info\">\n",
    "\n",
    "Ecrivez alors cet alogorithme en pseudo code (comme en python mais en français):"
   ]
  },
  {
   "cell_type": "markdown",
   "metadata": {},
   "source": [
    "*Votre réponse ici*  "
   ]
  },
  {
   "cell_type": "markdown",
   "metadata": {},
   "source": [
    "<div class=\"alert alert-info\">\n",
    "\n",
    "Cet algorithme semble fonctionnel :"
   ]
  },
  {
   "cell_type": "markdown",
   "metadata": {},
   "source": [
    "\n",
    "\n",
    "**Il se termine** car : *votre réponse ici* \n",
    "\n",
    "**Il est correct** car : *votre réponse ici* "
   ]
  },
  {
   "cell_type": "markdown",
   "metadata": {},
   "source": [
    "<div class=\"alert alert-info\">\n",
    "\n",
    "## Écrivons ce programme en Python\n",
    "\n",
    "On utilisera une fonction : happy(n)  \n",
    "\n",
    "En Python on peut itérer sur une chaîne de caractère, donc pour calculer la somme des carrés des chiffres de n on peut itérer sur str(n).\n",
    "\n",
    "Proposez votre fonction python :    "
   ]
  },
  {
   "cell_type": "code",
   "execution_count": null,
   "metadata": {},
   "outputs": [],
   "source": [
    "# Votre code ici:\n"
   ]
  },
  {
   "cell_type": "code",
   "execution_count": null,
   "metadata": {},
   "outputs": [],
   "source": [
    "# Testez votre fonction ici:\n"
   ]
  },
  {
   "cell_type": "markdown",
   "metadata": {},
   "source": [
    "<div class=\"alert alert-info\">\n",
    "    \n",
    "Documentez votre fonction avec une docstring qui précise sa spécification: réécrivez votre fonction ci-dessous:"
   ]
  },
  {
   "cell_type": "code",
   "execution_count": null,
   "metadata": {},
   "outputs": [],
   "source": [
    "# Votre code ici:\n"
   ]
  },
  {
   "cell_type": "markdown",
   "metadata": {},
   "source": [
    "<div class=\"alert alert-info\">\n",
    "\n",
    "## Dernier exercice:\n",
    "En utilisant cette fonction, faites en sorte d'afficher tous les nombre heureux jusqu'à 1000:"
   ]
  },
  {
   "cell_type": "code",
   "execution_count": null,
   "metadata": {},
   "outputs": [],
   "source": [
    "# Votre code ici\n"
   ]
  }
 ],
 "metadata": {
  "kernelspec": {
   "display_name": "Python 3",
   "language": "python",
   "name": "python3"
  },
  "language_info": {
   "codemirror_mode": {
    "name": "ipython",
    "version": 3
   },
   "file_extension": ".py",
   "mimetype": "text/x-python",
   "name": "python",
   "nbconvert_exporter": "python",
   "pygments_lexer": "ipython3",
   "version": "3.7.2"
  }
 },
 "nbformat": 4,
 "nbformat_minor": 2
}
