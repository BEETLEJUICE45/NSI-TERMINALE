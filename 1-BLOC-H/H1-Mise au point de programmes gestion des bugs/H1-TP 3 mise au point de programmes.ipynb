{
 "cells": [
  {
   "cell_type": "markdown",
   "metadata": {},
   "source": [
    "<div class=\"alert alert-info\">\n",
    "\n",
    "# MISE AU POINT DE PROGRAMMES\n",
    "\n",
    "## Exercice 1:\n",
    "\n",
    "La mesure d'un angle peut être donnée en degrés ou en radian. L'unité de calcul naturelle pour les angles est le radian. La bibliothèque math ne sait donc calculer le cosinus que d'un angle donné en radian.  \n",
    "pi radians correspondent à 180°.  \n",
    "\n",
    "On va créer et documenter et spécifier deux fonctions permettant d'obtenir directement le cosinus à partir d'un angle donné en degrés.\n",
    "\n",
    "   --> Modifiez les noms des fonctions, variables et créez le docstring selon les normes énnoncées plus haut."
   ]
  },
  {
   "cell_type": "code",
   "execution_count": null,
   "metadata": {},
   "outputs": [],
   "source": [
    "import math\n",
    "def ma_fonction1(x):\n",
    "    return(x*math.pi/180)\n",
    "\n",
    "def ma_fonction2(x):\n",
    "    return(math.cos(ma_fonction1(x)))"
   ]
  },
  {
   "cell_type": "code",
   "execution_count": null,
   "metadata": {},
   "outputs": [],
   "source": [
    "# Votre code ici\n"
   ]
  },
  {
   "cell_type": "code",
   "execution_count": null,
   "metadata": {},
   "outputs": [],
   "source": [
    "#Testez votre code ici\n"
   ]
  },
  {
   "cell_type": "markdown",
   "metadata": {},
   "source": [
    "<div class=\"alert alert-info\">\n",
    "\n",
    "\n",
    "## Exercice 2:\n",
    "   --> Comprendre ce que fait le code suivant, ajouter le docstring des spécifications et corriger tous les problèmes de spécification :"
   ]
  },
  {
   "cell_type": "code",
   "execution_count": null,
   "metadata": {},
   "outputs": [],
   "source": [
    "def fonction(a,b):\n",
    "    return (a * 100 / b)"
   ]
  },
  {
   "cell_type": "code",
   "execution_count": null,
   "metadata": {},
   "outputs": [],
   "source": [
    "# Votre code ici\n"
   ]
  },
  {
   "cell_type": "code",
   "execution_count": null,
   "metadata": {},
   "outputs": [],
   "source": [
    "#Testez votre code ici\n"
   ]
  },
  {
   "cell_type": "markdown",
   "metadata": {},
   "source": [
    "<div class=\"alert alert-info\">\n",
    "\n",
    "## Exercice 3:\n",
    "   --> Comprendre ce que fait le code suivant, ajouter le docstring des spécifications et corriger tous les problèmes de spécification :"
   ]
  },
  {
   "cell_type": "code",
   "execution_count": null,
   "metadata": {},
   "outputs": [],
   "source": [
    "import math\n",
    "\n",
    "def fonction1(a,b,c,d):\n",
    "   return(a+b+c+d)\n",
    "\n",
    "def fonction2(a,b,c,d):\n",
    "   return(fonction1(a,b,c,d)/4)"
   ]
  },
  {
   "cell_type": "code",
   "execution_count": null,
   "metadata": {},
   "outputs": [],
   "source": [
    "# Votre code ici\n"
   ]
  },
  {
   "cell_type": "code",
   "execution_count": null,
   "metadata": {},
   "outputs": [],
   "source": [
    "#Testez votre code ici\n"
   ]
  },
  {
   "cell_type": "markdown",
   "metadata": {},
   "source": [
    "<div class=\"alert alert-info\">\n",
    "\n",
    "## Exercice 4:\n",
    "   --> Comprendre ce que fait le code suivant, ajouter les docstring des spécifications et corriger tous les problèmes de spécification :"
   ]
  },
  {
   "cell_type": "code",
   "execution_count": null,
   "metadata": {},
   "outputs": [],
   "source": [
    "import math\n",
    "\n",
    "def fonction1(a,b):\n",
    "    coefficient = 10\n",
    "    return(coefficient * a * b)\n",
    "\n",
    "def fonction2(a,b,c,d):\n",
    "    return(a * b * c * d * d * d)"
   ]
  },
  {
   "cell_type": "code",
   "execution_count": null,
   "metadata": {},
   "outputs": [],
   "source": [
    "# Votre code ici\n"
   ]
  },
  {
   "cell_type": "code",
   "execution_count": null,
   "metadata": {},
   "outputs": [],
   "source": [
    "#Testez votre code ici\n"
   ]
  },
  {
   "cell_type": "markdown",
   "metadata": {},
   "source": [
    "<div class=\"alert alert-info\">\n",
    "\n",
    "## Exercice 5:\n",
    "   --> Comprendre ce que fait le code suivant et corriger tous les problèmes de spécification :"
   ]
  },
  {
   "cell_type": "code",
   "execution_count": null,
   "metadata": {},
   "outputs": [],
   "source": [
    "def fonction1():\n",
    "    \"\"\"\n",
    "    prototype : aucun argument en entrée, retourne le numéro du choix\n",
    "    \n",
    "    précondition: \n",
    "                \n",
    "    postcondition: retourne le numéro d'un choix présent dans le menu\n",
    "    \"\"\"\n",
    "    print(\"1 - jouer à la bataille navale\")\n",
    "    print(\"2 - jouer au puissance 4\")\n",
    "    print(\"3 - quitter\")\n",
    "    a = input(\"Taper votre choix 1 ou 2 ou 3:\")\n",
    "    return(a)"
   ]
  },
  {
   "cell_type": "code",
   "execution_count": null,
   "metadata": {},
   "outputs": [],
   "source": [
    "# Votre code ici\n"
   ]
  },
  {
   "cell_type": "code",
   "execution_count": null,
   "metadata": {},
   "outputs": [],
   "source": [
    "#Testez votre code ici\n"
   ]
  }
 ],
 "metadata": {
  "kernelspec": {
   "display_name": "Python 3",
   "language": "python",
   "name": "python3"
  },
  "language_info": {
   "codemirror_mode": {
    "name": "ipython",
    "version": 3
   },
   "file_extension": ".py",
   "mimetype": "text/x-python",
   "name": "python",
   "nbconvert_exporter": "python",
   "pygments_lexer": "ipython3",
   "version": "3.7.8"
  }
 },
 "nbformat": 4,
 "nbformat_minor": 2
}
