{
 "cells": [
  {
   "cell_type": "markdown",
   "metadata": {},
   "source": [
    "<div class=\"alert alert-info\">\n",
    "    \n",
    "# TP\n",
    "# BLOC I – 3 :  Recherche textuelle."
   ]
  },
  {
   "cell_type": "markdown",
   "metadata": {},
   "source": [
    "<div class=\"alert alert-info\">\n",
    "    \n",
    "## Exercice 1:  \n",
    "Ecrivez une implémentation de note premier alogorithme naïf de recherche textuelle utilisant les sous cahines. Vous construirez une fonction recherche_texte_naif(motif,texte) qui recherchera le motif dans le texte en indiquant sa position si le motif est trouvé."
   ]
  },
  {
   "cell_type": "code",
   "execution_count": null,
   "metadata": {},
   "outputs": [],
   "source": [
    "def recherche_texte_naif(motif,texte):\n",
    "    "
   ]
  },
  {
   "cell_type": "markdown",
   "metadata": {},
   "source": [
    "<div class=\"alert alert-info\">\n",
    "Testez alors votre fonction à l'aide du texte \"abracadabracadabricadabra\" et du motif \"adabrica\":"
   ]
  },
  {
   "cell_type": "code",
   "execution_count": null,
   "metadata": {},
   "outputs": [],
   "source": [
    "texte = \"abracadabracadabricadabra\"\n",
    "motif = \"adabrica\"\n",
    "recherche_texte_naif(motif,texte)"
   ]
  },
  {
   "cell_type": "markdown",
   "metadata": {},
   "source": [
    "<div class=\"alert alert-info\">\n",
    "    \n",
    "Ajoutez des valeurs de retour à votre fonction :\n",
    "* tailletexte le nombre de caractères du texte.\n",
    "* boucles le nombre de boucles effectuées.\n",
    "* temps le temps d'execution total à l'aide du module time (voir fonctionnement ci dessous)."
   ]
  },
  {
   "cell_type": "code",
   "execution_count": null,
   "metadata": {},
   "outputs": [],
   "source": [
    "import time\n",
    "debut = time.perf_counter() #Démarre le chrono\n",
    "temps = time.perf_counter() - debut #Stoppe le chrono et stocke le temps écoulé depuis le départ du chrono en secondes\n",
    "print(temps)"
   ]
  },
  {
   "cell_type": "code",
   "execution_count": null,
   "metadata": {},
   "outputs": [],
   "source": [
    "def recherche_texte_naif(motif,texte):\n",
    "    "
   ]
  },
  {
   "cell_type": "markdown",
   "metadata": {},
   "source": [
    "<div class=\"alert alert-info\">\n",
    "Testez alors votre fonction à l'aide du texte \"abracadabracadabricadabra\" et du motif \"adabrica\":"
   ]
  },
  {
   "cell_type": "code",
   "execution_count": null,
   "metadata": {},
   "outputs": [],
   "source": [
    "texte = \"abracadabracadabricadabra\"\n",
    "motif = \"adabrica\"\n",
    "tailletexte, boucles, temps = recherche_texte_naif(motif,texte)\n",
    "\n",
    "print(\"Le texte comporte \" + tailletexte + \" caractères.\")\n",
    "print(boucles + \" tours de boucle effectué(s).\")\n",
    "print(\"Traitement effectué en \" + temps + \" secondes\")"
   ]
  },
  {
   "cell_type": "markdown",
   "metadata": {},
   "source": [
    "<div class=\"alert alert-info\">\n",
    "    \n",
    "## Exercice 2 : amélioration de notre alogorithme naïf.\n",
    "Construisez une fonction occurrence(motif ,texte ,index) qui teste s'il y a une occurence de motif dans texte à la position index sans utiliser de sous chaine mais en comparant chaque caractère de m par rapport à la partie de t observée afin de gagner du temps en s'arrêtant dès qu'un caractère ne correspond pas.\n",
    "* Cette fonction retournera True si elle a trouvé une occurence et False sinon.\n",
    "* Un peu de programmation défensive exluera les cas où l'index ne correspond pas à une position existante dans le texte..."
   ]
  },
  {
   "cell_type": "code",
   "execution_count": null,
   "metadata": {},
   "outputs": [],
   "source": [
    "def occurrence(motif ,texte ,index):\n",
    "    "
   ]
  },
  {
   "cell_type": "markdown",
   "metadata": {},
   "source": [
    "<div class=\"alert alert-info\">\n",
    "  \n",
    "Modifiez alors votre fonction recherche_texte_naif(motif,texte) en recherche_texte_naif_rapide(motif,texte)  \n",
    "afin qu'elle utilise votre fonction occurrence(motif ,texte ,index) au lieu de sous chaines..."
   ]
  },
  {
   "cell_type": "code",
   "execution_count": null,
   "metadata": {},
   "outputs": [],
   "source": [
    "def recherche_texte_naif_rapide(motif,texte):\n",
    "    "
   ]
  },
  {
   "cell_type": "markdown",
   "metadata": {},
   "source": [
    "<div class=\"alert alert-info\">\n",
    "Testez alors votre fonction à l'aide du texte \"abracadabracadabricadabra\" et du motif \"adabrica\":"
   ]
  },
  {
   "cell_type": "code",
   "execution_count": null,
   "metadata": {},
   "outputs": [],
   "source": [
    "texte = \"abracadabracadabricadabra\"\n",
    "motif = \"adabrica\"\n",
    "tailletexte, boucles, temps = recherche_texte_naif(motif,texte)\n",
    "\n",
    "print(\"Le texte comporte \" + tailletexte + \" caractères.\")\n",
    "print(boucles + \" tours de boucle effectué(s).\")\n",
    "print(\"Traitement effectué en \" + temps + \" secondes\")\n",
    "\n",
    "tailletexte, boucles, temps = recherche_texte_naif_rapide(motif,texte)\n",
    "\n",
    "print(\"Le texte comporte \" + tailletexte + \" caractères.\")\n",
    "print(boucles + \" tours de boucle effectué(s).\")\n",
    "print(\"Traitement effectué en \" + temps + \" secondes\")"
   ]
  },
  {
   "cell_type": "raw",
   "metadata": {},
   "source": [
    "Avez vous gagné des tours de boucles ?\n",
    "\n",
    "Avez vous gagné du temps ?\n"
   ]
  },
  {
   "cell_type": "code",
   "execution_count": null,
   "metadata": {},
   "outputs": [],
   "source": [
    "# Test pour comparer sur un plus grand nombre de caractères:\n",
    "texte = 200000*\"b\"\n",
    "motif = 100000*\"a\"\n",
    "tailletexte, boucles, temps = recherche_texte_naif(motif,texte)\n",
    "\n",
    "print(\"Le texte comporte \" + tailletexte + \" caractères.\")\n",
    "print(boucles + \" tours de boucle effectué(s).\")\n",
    "print(\"Traitement effectué en \" + temps + \" secondes\")\n",
    "\n",
    "tailletexte, boucles, temps = recherche_texte_naif_rapide(motif,texte)\n",
    "\n",
    "print(\"Le texte comporte \" + tailletexte + \" caractères.\")\n",
    "print(boucles + \" tours de boucle effectué(s).\")\n",
    "print(\"Traitement effectué en \" + temps + \" secondes\")"
   ]
  },
  {
   "cell_type": "markdown",
   "metadata": {},
   "source": [
    "<div class=\"alert alert-info\">\n",
    "    \n",
    "## Exercice 3 : accélérons la recherche en sautant certaines sous chaines.\n",
    "Construisez une fonction recherche_texte_saut(motif, texte) qui suit l'algorithme vu en cours :\n",
    "* Si la sous-chaine commençant à l’indice i est égale au motif recherché, afficher une occurrence et reprendre à l’indice i+1. On testera l'égalité grâce à notre fonction occurence2(motif, texte, index) modifiée pour qu'elle retourne la valeur de l'index j de l'echec le cas échéant.\n",
    "* Sinon, si l’on a détecté une différence entre le caractère à l’indice j du motif et le caractère à l’indice i + j = h du texte, incrémenter i de 1 jusqu’à ce que :  \n",
    " o Soit i dépasse h,  \n",
    " o Soit le caractère à l’indice h – i du motif soit égal à l’indice h du texte."
   ]
  },
  {
   "cell_type": "code",
   "execution_count": null,
   "metadata": {},
   "outputs": [],
   "source": [
    "def occurrence2(motif ,texte ,index):\n",
    "    \n",
    "\n",
    "def recherche_texte_saut(motif,texte):\n",
    "    "
   ]
  },
  {
   "cell_type": "markdown",
   "metadata": {},
   "source": [
    "<div class=\"alert alert-info\">\n",
    "Testez alors votre fonction à l'aide du texte \"abracadabracadabricadabra\" et du motif \"adabrica\":"
   ]
  },
  {
   "cell_type": "code",
   "execution_count": null,
   "metadata": {},
   "outputs": [],
   "source": [
    "texte = \"abracadabracadabricadabra\"\n",
    "motif = \"adabrica\"\n",
    "tailletexte, boucles, temps = recherche_texte_naif_rapide(motif,texte)\n",
    "\n",
    "print(\"Le texte comporte \" + tailletexte + \" caractères.\")\n",
    "print(boucles + \" tours de boucle effectué(s).\")\n",
    "print(\"Traitement effectué en \" + temps + \" secondes\")\n",
    "\n",
    "tailletexte, boucles, temps = recherche_texte_saut(motif,texte)\n",
    "\n",
    "print(\"Le texte comporte \" + tailletexte + \" caractères.\")\n",
    "print(boucles + \" tours de boucle effectué(s).\")\n",
    "print(\"Traitement effectué en \" + temps + \" secondes\")"
   ]
  },
  {
   "cell_type": "raw",
   "metadata": {},
   "source": [
    "Avez vous gagné des tours de boucles ?\n",
    "\n",
    "Avez vous gagné du temps ?.\n"
   ]
  },
  {
   "cell_type": "code",
   "execution_count": null,
   "metadata": {},
   "outputs": [],
   "source": [
    "# Test pour comparer sur un plus grand nombre de caractères:\n",
    "texte = 200000*\"b\"+100000*\"a\"\n",
    "motif = 100000*\"a\"\n",
    "tailletexte, boucles, temps = recherche_texte_naif_rapide(motif,texte)\n",
    "\n",
    "print(\"Le texte comporte \" + tailletexte + \" caractères.\")\n",
    "print(boucles + \" tours de boucle effectué(s).\")\n",
    "print(\"Traitement effectué en \" + temps + \" secondes\")\n",
    "\n",
    "tailletexte, boucles, temps = recherche_texte_saut(motif,texte)\n",
    "\n",
    "print(\"Le texte comporte \" + tailletexte + \" caractères.\")\n",
    "print(boucles + \" tours de boucle effectué(s).\")\n",
    "print(\"Traitement effectué en \" + temps + \" secondes\")"
   ]
  },
  {
   "cell_type": "markdown",
   "metadata": {},
   "source": [
    "<div class=\"alert alert-info\">\n",
    "    \n",
    "## Exercice 4 : de plus en plus fort...\n",
    "Modifiez votre fonction occurrence2(motif ,texte ,index) en occurrence_droite_gauche(motif ,texte ,index) pour qu'elle compare le motif de droite à gauche. Rennomez votre fonction recherche_texte_saut2(motif,texte) en la mettant à jour avec votre nouvelle fonction occurrence_droite_gauche(motif ,texte ,index)."
   ]
  },
  {
   "cell_type": "code",
   "execution_count": null,
   "metadata": {},
   "outputs": [],
   "source": [
    "def occurrence_droite_gauche(motif ,texte ,index):\n",
    "    \n",
    "\n",
    "def recherche_texte_saut2(motif,texte):\n",
    "    "
   ]
  },
  {
   "cell_type": "markdown",
   "metadata": {},
   "source": [
    "<div class=\"alert alert-info\">\n",
    "Testez alors votre fonction à l'aide du texte \"abracadabracadabricadabra\" et du motif \"adabrica\":"
   ]
  },
  {
   "cell_type": "code",
   "execution_count": null,
   "metadata": {},
   "outputs": [],
   "source": [
    "texte = \"abracadabracadabricadabra\"\n",
    "motif = \"adabrica\"\n",
    "tailletexte, boucles, temps = recherche_texte_saut(motif,texte)\n",
    "\n",
    "print(\"Le texte comporte \" + tailletexte + \" caractères.\")\n",
    "print(boucles + \" tours de boucle effectué(s).\")\n",
    "print(\"Traitement effectué en \" + temps + \" secondes\")\n",
    "\n",
    "tailletexte, boucles, temps = recherche_texte_saut2(motif,texte)\n",
    "\n",
    "print(\"Le texte comporte \" + tailletexte + \" caractères.\")\n",
    "print(boucles + \" tours de boucle effectué(s).\")\n",
    "print(\"Traitement effectué en \" + temps + \" secondes\")"
   ]
  },
  {
   "cell_type": "raw",
   "metadata": {},
   "source": [
    "Avez vous gagné des tours de boucles ?\n",
    "\n",
    "Avez vous gagné du temps ?\n"
   ]
  },
  {
   "cell_type": "code",
   "execution_count": null,
   "metadata": {},
   "outputs": [],
   "source": [
    "# Test pour comparer sur un plus grand nombre de caractères:\n",
    "texte = 200000*\"b\"+100000*\"a\"\n",
    "motif = 100000*\"a\"\n",
    "tailletexte, boucles, temps = recherche_texte_saut(motif,texte)\n",
    "\n",
    "print(\"Le texte comporte \" + tailletexte + \" caractères.\")\n",
    "print(boucles + \" tours de boucle effectué(s).\")\n",
    "print(\"Traitement effectué en \" + temps + \" secondes\")\n",
    "\n",
    "tailletexte, boucles, temps = recherche_texte_saut2(motif,texte)\n",
    "\n",
    "print(\"Le texte comporte \" + tailletexte + \" caractères.\")\n",
    "print(boucles + \" tours de boucle effectué(s).\")\n",
    "print(\"Traitement effectué en \" + temps + \" secondes\")"
   ]
  },
  {
   "cell_type": "markdown",
   "metadata": {},
   "source": [
    "<div class=\"alert alert-info\">\n",
    "    \n",
    "## Exercice 5 : l'algorithme de Boyer-Moore...\n",
    "..."
   ]
  },
  {
   "cell_type": "markdown",
   "metadata": {},
   "source": [
    "Nous allons construire une fonction <code>recherche_boyer_moore(motif,texte)</code>. Cette fonction va commencer par construire une table de decalage <code>table_dec</code> à partir d'une fonction <code>table_boyer_moore(motif)</code>. La construction de la table de décalage s'effectue ainsi :\n",
    "* On construit un tableau <code>d</code> de taille <code>len(motif)</code>, où chaque élément est un dictionnaire vide.\n",
    "* On remplit alors tous ces dictionaires avec une double boucle sur tous les indices <code>j</code> et sur tous les indices <code>k < j</code>.\n",
    "* Pour chaque paire d'indice <code>j</code> et <code>k</code>, il suffit de renseigner la clé <code>m[k]</code> du dictionnaire <code>d[j]</code> avec la valeur <code>k</code>.\n",
    "* Comme on parcourt les indices <code>k</code> du pluspetit au plus grand on va générer plusieurs occurences du même cacarctère, chacune écrasant la précédente. On bien <code>d[j][c]</code> le plus grand <code>k</code> tel que <code>k < j</code> et <code>m[k]=c</code>.\n",
    "* On termine en renvoyant la table."
   ]
  },
  {
   "cell_type": "code",
   "execution_count": null,
   "metadata": {},
   "outputs": [],
   "source": [
    "def table_boyer_moore(motif):\n",
    "    dec = [{} for _ in range(len(motif))]\n",
    "    for j in range(len(motif)):\n",
    "        for k in range(j):\n",
    "            dec[j][motif[k]]=k\n",
    "    return dec"
   ]
  },
  {
   "cell_type": "markdown",
   "metadata": {},
   "source": [
    "Implémentation de notre algorithme de Boyer-Moore:  \n",
    "* Notre fonction recherche_boyer_moore(motif,texte) va commencer par créer la table de boyer moore table_dec à partir de notre fonction table_boyer_moore(motif)."
   ]
  },
  {
   "cell_type": "code",
   "execution_count": null,
   "metadata": {},
   "outputs": [],
   "source": [
    "def recherche_boyer_moore(motif,texte):\n",
    "    table_dec = table_boyer_moore(motif)"
   ]
  },
  {
   "cell_type": "markdown",
   "metadata": {},
   "source": [
    "* Nous allons ensuite tester les positions successives du motif dans le texte avec une boucle while (car nous allons effectuer des sauts). L'index i part de 0."
   ]
  },
  {
   "cell_type": "code",
   "execution_count": null,
   "metadata": {},
   "outputs": [],
   "source": [
    "i = 0\n",
    "while i<= len(texte) - len(motif):"
   ]
  },
  {
   "cell_type": "markdown",
   "metadata": {},
   "source": [
    "* On va maintenant comparer les caractères un par un en partant de la droite et on retient dans une variable <code>k</code> le décalage trouvé s'il existe."
   ]
  },
  {
   "cell_type": "code",
   "execution_count": null,
   "metadata": {},
   "outputs": [],
   "source": [
    "k = 0\n",
    "for j in range(len(motif) - 1, -1, -1):"
   ]
  },
  {
   "cell_type": "markdown",
   "metadata": {},
   "source": [
    "* Dès qu'il y a une différence entre lemlotif et le texte, on clacule le décalage avec la fonction <code>decalage(table_dec, j, caractere)</code> suivante et on <code>break</code> la boucle:"
   ]
  },
  {
   "cell_type": "code",
   "execution_count": null,
   "metadata": {},
   "outputs": [],
   "source": [
    "def decalage(table_dec, j, caractere):\n",
    "    if caractere in table_dec[j]:\n",
    "        return j - table_dec[j][caractere]\n",
    "    else:\n",
    "        return j + 1"
   ]
  },
  {
   "cell_type": "markdown",
   "metadata": {},
   "source": [
    "* On obtient donc :"
   ]
  },
  {
   "cell_type": "code",
   "execution_count": null,
   "metadata": {},
   "outputs": [],
   "source": [
    "if texte[i + j] != motif[j]:\n",
    "    k = decalage(table_dec, j, texte[i + j])\n",
    "    break"
   ]
  },
  {
   "cell_type": "markdown",
   "metadata": {},
   "source": [
    "* Une fois sorti de la boucle, on a deux cas de figure:  \n",
    "  - Soit  une différence a été trouvée entre le motif et le texte et alors la valeur de k est différente de 0(la fonction decalage renvoie toujours au moins 1)  \n",
    "  - Soit <code>k</code> vaut toujours 0 ce qui signifie qu'on a trouvé une occurence... on affiche alors l'occurence et on donne alors à <code>k</code> la valeur de 1 de manière à avancer dans le texte."
   ]
  },
  {
   "cell_type": "code",
   "execution_count": null,
   "metadata": {},
   "outputs": [],
   "source": [
    "if k == 0:\n",
    "    print(\"Occurence trouvée à la position : \", i)\n",
    "    k = 1"
   ]
  },
  {
   "cell_type": "markdown",
   "metadata": {},
   "source": [
    "* Pour finir on effectue le saut en ajoutant à <code>i</code> la valeur de <code>k</code> (ce qui est corect quelque soit le cas de figure):"
   ]
  },
  {
   "cell_type": "code",
   "execution_count": null,
   "metadata": {},
   "outputs": [],
   "source": [
    "i += k"
   ]
  },
  {
   "cell_type": "markdown",
   "metadata": {},
   "source": [
    "Construisez alors l'implémentation complète de cet algorithme de Boyer-Moore en ajoutant la taille du texte, le nombre de boucle et le temps:"
   ]
  },
  {
   "cell_type": "code",
   "execution_count": null,
   "metadata": {},
   "outputs": [],
   "source": [
    "\n"
   ]
  },
  {
   "cell_type": "markdown",
   "metadata": {},
   "source": [
    "<div class=\"alert alert-info\">\n",
    "Testez alors votre fonction à l'aide du texte \"abracadabracadabricadabra\" et du motif \"adabrica\":"
   ]
  },
  {
   "cell_type": "code",
   "execution_count": null,
   "metadata": {},
   "outputs": [],
   "source": [
    "texte = \"abracadabracadabricadabra\"\n",
    "motif = \"adabrica\"\n",
    "\n",
    "tailletexte, boucles, temps = recherche_texte_saut2(motif,texte)\n",
    "\n",
    "print(\"Le texte comporte \" + tailletexte + \" caractères.\")\n",
    "print(boucles + \" tours de boucle effectué(s).\")\n",
    "print(\"Traitement effectué en \" + temps + \" secondes\")\n",
    "\n",
    "tailletexte, boucles, temps = recherche_boyer_moore(motif,texte)\n",
    "\n",
    "print(\"Le texte comporte \" + tailletexte + \" caractères.\")\n",
    "print(boucles + \" tours de boucle effectué(s).\")\n",
    "print(\"Traitement effectué en \" + temps + \" secondes\")"
   ]
  },
  {
   "cell_type": "raw",
   "metadata": {},
   "source": [
    "Avez vous gagné des tours de boucles ?\n",
    "\n",
    "Avez vous gagné du temps ?\n"
   ]
  },
  {
   "cell_type": "code",
   "execution_count": null,
   "metadata": {},
   "outputs": [],
   "source": [
    "# Test pour comparer sur un plus grand nombre de caractères:\n",
    "texte = 2000*\"b\"\n",
    "motif = 1000*\"a\"\n",
    "tailletexte, boucles, temps = recherche_texte_saut2(motif,texte)\n",
    "\n",
    "print(\"Le texte comporte \" + tailletexte + \" caractères.\")\n",
    "print(boucles + \" tours de boucle effectué(s).\")\n",
    "print(\"Traitement effectué en \" + temps + \" secondes\")\n",
    "\n",
    "tailletexte, boucles, temps = recherche_boyer_moore(motif,texte)\n",
    "\n",
    "print(\"Le texte comporte \" + tailletexte + \" caractères.\")\n",
    "print(boucles + \" tours de boucle effectué(s).\")\n",
    "print(\"Traitement effectué en \" + temps + \" secondes\")"
   ]
  }
 ],
 "metadata": {
  "kernelspec": {
   "display_name": "Python 3",
   "language": "python",
   "name": "python3"
  },
  "language_info": {
   "codemirror_mode": {
    "name": "ipython",
    "version": 3
   },
   "file_extension": ".py",
   "mimetype": "text/x-python",
   "name": "python",
   "nbconvert_exporter": "python",
   "pygments_lexer": "ipython3",
   "version": "3.7.2"
  }
 },
 "nbformat": 4,
 "nbformat_minor": 2
}
