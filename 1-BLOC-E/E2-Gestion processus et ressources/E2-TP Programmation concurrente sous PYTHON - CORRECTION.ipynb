{
 "cells": [
  {
   "cell_type": "markdown",
   "metadata": {},
   "source": [
    "# E2 - TP - Programmation concurrente en python"
   ]
  },
  {
   "cell_type": "markdown",
   "metadata": {},
   "source": [
    "## 1- Processus concurrents.  \n",
    "    \n",
    "Comprenez et exécutez le programme python suivant :"
   ]
  },
  {
   "cell_type": "code",
   "execution_count": 10,
   "metadata": {},
   "outputs": [],
   "source": [
    "from os import getpid #importation de getpid\n",
    "pid = str(getpid()) #getpid renvoie en si=ortie le pid du processus dans le lequel on se trouve\n",
    "with open(\"testPID.txt\", \"w\") as fichier: #ouvre le fihier testPID.txt en écriture (w)\n",
    "         for i in range (1000):\n",
    "            fichier.write(pid + \" : \" + str(i) + \"\\n\")\n",
    "            fichier.flush() #force l'écriture immédiate de write sur le disque"
   ]
  },
  {
   "cell_type": "markdown",
   "metadata": {},
   "source": [
    "<div class=\"alert alert-info\">\n",
    "Le fichier testPID.text a été créé dans le dossir de ce notebook. Ouvrez ce fichier avec notepad++ et dites ce que l'on y trouve :  \n",
    "    \n",
    "*Votre réponse ici...*  \n",
    "On y trouve le PID du processus qui a incrémenté chaque valeur de i."
   ]
  },
  {
   "cell_type": "markdown",
   "metadata": {},
   "source": [
    "<div class=\"alert alert-info\">\n",
    "Vous allez devoir travailler sous linux afin de lancer simultanément 3 instances de python (créant ainsi trois processus simultanés de python lançant ce même script).\n",
    "    Ouvrez votre repertoire personnel.  \n",
    "    Clic droit, puis \"Ouvrir un terminal ici\"  \n",
    "    Dans votre terminal entrez la command <code>touch testPID.py</code>  \n",
    "    Puis la commande <code>atom testPID.py</code>  \n",
    "    Dans atom, copiez le code du programme puis enregistrez et fermez atom.  \n",
    "    Dans votre terminal,testez votre code en entrant la command <code>python3 testPID.py</code>  \n",
    "    Regardez le contenu de votre fichier testPID.txt avec la commande <code>atom testPID.txt</code> puis fermez atom.\n",
    "    Entrez la commande <code>python3 testPID.py & python3 testPID.py & python3 testPID.py &</code> afin de lancer 3 instances de ce script python simultanément.\n",
    "    Que contient maintenant testPID.txt et comment expliquez vous le contenu de votre fichier testPID.txt?  (pour vous aider, rappelez vous que la méthode write initialise un curseur d'écriture lors de l'ouverture d'un fichier)\n",
    "    \n",
    "*Votre réponse ici*  \n",
    "On a l'impression que certaines valeurs ont été écrites par un processus et d'autres valeurs par un autre processus... En fait an cas de commutation de contexte le programme qui est interrompu a une certaine valeur du curseur d'écriture. L'autre processus va avancer le curseur pour écrire lorsqu'il a la main... puis lorsque le premier v areprendre la main il va reprendre à partir de SA valeur de ciurseur et écraser ce que l'autre processus a écrit... c'est le dernier passé sur une position donnée qui a raison..."
   ]
  },
  {
   "cell_type": "markdown",
   "metadata": {},
   "source": [
    "## 2- Problématiques d'interblocage et multithreads\n"
   ]
  },
  {
   "cell_type": "markdown",
   "metadata": {},
   "source": [
    "Un thread est un sou-processus démarré par un processus et s'exécutant de manière concurrente avec le reste du programme. Le module threading de la bibliohèque standard de Python permet de démarrer des threads.  \n",
    "Le programme suivant permet d'illustrer ce propos:"
   ]
  },
  {
   "cell_type": "code",
   "execution_count": 30,
   "metadata": {},
   "outputs": [
    {
     "name": "stdout",
     "output_type": "stream",
     "text": [
      "Je suis le thread  0  et ma valeur est  0\n",
      "Je suis le thread  0Je suis le thread   1  et ma valeur est  0\n",
      "Je suis le thread  1  et ma valeur est  1\n",
      "Je suis le thread  1  et ma valeur est  2\n",
      "Je suis le thread  1  et ma valeur est  3\n",
      "Je suis le thread  1  et ma valeur est  4\n",
      "------ Fin du thread  1\n",
      " et ma valeur est  1\n",
      "Je suis le thread  0  et ma valeur est  2\n",
      "Je suis le thread  0  et ma valeur est  3\n",
      "Je suis le thread  0  et ma valeur est  4\n",
      "------ Fin du thread  0\n",
      "Je suis le thread  2  et ma valeur est  0\n",
      "Je suis le thread  2  et ma valeur est  1\n",
      "Je suis le thread  2  et ma valeur est  2Je suis le thread  3  et ma valeur est  0\n",
      "Je suis le thread  3  et ma valeur est  1\n",
      "Je suis le thread  3  et ma valeur est \n",
      " 2\n",
      "Je suis le thread  3  et ma valeur est  3\n",
      "Je suis le thread  3  et ma valeur est  4\n",
      "------ Fin du thread  3\n",
      "Je suis le thread  2  et ma valeur est  3\n",
      "Je suis le thread  2  et ma valeur est  4\n",
      "------ Fin du thread  2\n"
     ]
    }
   ],
   "source": [
    "import threading\n",
    "\n",
    "def hello(n):\n",
    "    for i in range(5):\n",
    "        print(\"Je suis le thread \", n, \" et ma valeur est \", i)\n",
    "    print(\"------ Fin du thread \", n)\n",
    "\n",
    "for n in range(4):\n",
    "    t = threading.Thread(target=hello, args=[n]) #la variable t contient l'objet thread créé\n",
    "    t.start() #On lance l'exécution en tâche de fond et on rend la main au script... la boucle continue"
   ]
  },
  {
   "cell_type": "markdown",
   "metadata": {},
   "source": [
    "<div class=\"alert alert-info\">\n",
    "Vous pouvez exécuter le code ci-dessus plusieurs fois. Obtenez vous toujours le même résultat?  \n",
    "    \n",
    "*Votre réponse ici*  \n",
    "Non..."
   ]
  },
  {
   "cell_type": "markdown",
   "metadata": {},
   "source": [
    "<div class=\"alert alert-info\">\n",
    "Comment expliquez vous ce résultat ?  \n",
    "  \n",
    "*Votre réponse ici*  \n",
    "Les threads alternent leur exécution au gré des commutations de contexte."
   ]
  },
  {
   "cell_type": "markdown",
   "metadata": {},
   "source": [
    "<div class=\"alert alert-info\">\n",
    "Quand vous lancez le programme ci dessus, combien de threads sont exécutés simultanément?  \n",
    "  \n",
    "*Votre réponse ici*  \n",
    "5 ! le thread principal de ce programme + les 4 lancés par start."
   ]
  },
  {
   "cell_type": "raw",
   "metadata": {},
   "source": [
    "Considérons maintenant le programme suivant :"
   ]
  },
  {
   "cell_type": "code",
   "execution_count": 31,
   "metadata": {},
   "outputs": [
    {
     "name": "stdout",
     "output_type": "stream",
     "text": [
      "Valeur finale de COMPTEUR :  359603\n"
     ]
    }
   ],
   "source": [
    "import threading\n",
    "COMPTEUR = 0\n",
    "\n",
    "def incrc():\n",
    "    '''Cette fonction incrémente la variable globale COMPTEUR de 100000'''\n",
    "    global COMPTEUR #désolé pour ce coup là mais necessaire pour la démonstration.\n",
    "    for c in range(100000):\n",
    "        v = COMPTEUR\n",
    "        COMPTEUR = v+1\n",
    "th = [] #On déclare un tableau vide.\n",
    "\n",
    "for n in range(4):\n",
    "    t = threading.Thread(target=incrc,args=[]) #la variable t contient l'objet thread créé\n",
    "    t.start() #On lance l'exécution en tâche d efond et on rend la main au script\n",
    "    th.append(t) #Après le démarrage du thread, l'objet est stocké dans le tableau th\n",
    "    \n",
    "for t in th:\n",
    "    t.join() #La méthode join permet d'attendre que le thread auquel on l'applique soit terminée.\n",
    "print(\"Valeur finale de COMPTEUR : \", COMPTEUR)"
   ]
  },
  {
   "cell_type": "markdown",
   "metadata": {},
   "source": [
    "<div class=\"alert alert-info\">\n",
    "En théorie, on execute 4 threads qui vont augmenter COMPTEUR de 100000 chacun. A quelle valeur de COMPTEUR doit-on logiquement arriver en fin d'exécution ?  \n",
    "  \n",
    "*Votre réponse ici*  \n",
    "400000"
   ]
  },
  {
   "cell_type": "markdown",
   "metadata": {},
   "source": [
    "<div class=\"alert alert-info\">\n",
    "Executez plusieurs fois ce script. Quel résultat obtenez vous ?  \n",
    "  \n",
    "*Votre réponse ici*  \n",
    "On obtient au maximum 400000 ou moins..."
   ]
  },
  {
   "cell_type": "markdown",
   "metadata": {},
   "source": [
    "<div class=\"alert alert-info\">\n",
    "Comment expliquez vous ce résultat?  \n",
    "  \n",
    "*Votre réponse ici*  \n",
    "Si une commutation de contexte a lieu pour un thread juste après v = COMPTEUR, les autres threads vont augmenter COMPTEUR pendant leur exécution.Mais quand le premier thread reprendra la mais, il réduira la valeur de COMPTEUR (qui avait avancé avec les autres threads) car son v avait enregistré une valeur de COMPTEUR plus faible quelà où il en est.... COMPTEUR recule quand ceci se passe et on obtient une valeur inférieure à 400000 à la fin..."
   ]
  },
  {
   "cell_type": "markdown",
   "metadata": {},
   "source": [
    "<div class=\"alert alert-info\">\n",
    "Pour corriger le problème il nous faut éviter d'être coupé en commutation de contexte au beau milieu de <code>v = COMPTEUR</code> et <code>COMPTEUR = v + 1</code> grâce à un verrou qui permetra d'avoir un accès EXCLUSIF à la variable compteur entre le moment de la lecture et celui de son écriture.  \n",
    "Réécrivez le code ci-dessus en ajoutant la ligne <code>verrou = threading.Lock()</code> après l'import de threading, puis en ajoutant la ligne <code>verrou.acquire()</code> avant <code>v = COMPTEUR</code> et la ligne <code>verrou.release()</code> après la ligne <code>COMPTEUR = v + 1</code>.  \n",
    "Un verrou est un objet que l'onpeut essayer d'acquérir. Si on est le premier à faire cette demande, on acquiert le verrou. On peut le rendre à tout moment. En revanche si quelqu'un d'autre tient le verrou, alors on est bloqué jusqu'à ce qu'il soit libéré.  \n",
    "    \n",
    "Une portion de code protégée par un verrou est appelée SECTION CRITIQUE.\n",
    "Testez la solution ci dessous:"
   ]
  },
  {
   "cell_type": "code",
   "execution_count": 1,
   "metadata": {},
   "outputs": [
    {
     "name": "stdout",
     "output_type": "stream",
     "text": [
      "Valeur finale de COMPTEUR :  400000\n"
     ]
    }
   ],
   "source": [
    "#Votre code ici\n",
    "import threading\n",
    "verrou = threading.Lock()\n",
    "COMPTEUR = 0\n",
    "\n",
    "def incrc():\n",
    "    '''Cette fonction incrémente la variable globale COMPTEUR de 100000'''\n",
    "    global COMPTEUR #désolé pour ce coup là mais necessaire pour la démonstration.\n",
    "    for c in range(100000):\n",
    "        verrou.acquire()\n",
    "        v = COMPTEUR\n",
    "        COMPTEUR = v+1\n",
    "        verrou.release()\n",
    "th = [] #On déclare un tableau vide.\n",
    "\n",
    "for n in range(4):\n",
    "    t = threading.Thread(target=incrc,args=[]) #la variable t contient l'objet thread créé\n",
    "    t.start() #On lance l'exécution en tâche d efond et on rend la main au script\n",
    "    th.append(t) #Après le démarrage du thread, l'objet est stocké dans le tableau th\n",
    "    \n",
    "for t in th:\n",
    "    t.join() #La méthode join permet d'attendre que le thread auquel on l'applique soit terminée.\n",
    "print(\"Valeur finale de COMPTEUR : \", COMPTEUR)"
   ]
  },
  {
   "cell_type": "markdown",
   "metadata": {},
   "source": [
    "<div class=\"alert alert-info\">\n",
    "Que pensez vous de ce code suivant ? (éxécutez le plusieurs fois)  \n",
    "    \n",
    "*Votre réponse ici*  \n",
    "On a un risque d'interblocage."
   ]
  },
  {
   "cell_type": "code",
   "execution_count": 33,
   "metadata": {},
   "outputs": [
    {
     "name": "stdout",
     "output_type": "stream",
     "text": [
      "Section critique 1.1Section critique 2.1\n",
      "\n"
     ]
    }
   ],
   "source": [
    "import threading\n",
    "\n",
    "verrou1 = threading.Lock()\n",
    "verrou2 = threading.Lock()\n",
    "\n",
    "def f1():\n",
    "    verrou1.acquire()\n",
    "    print(\"Section critique 1.1\")\n",
    "    verrou2.acquire()\n",
    "    print(\"Section critique 1.2\")\n",
    "    verrou2.release()\n",
    "    verrou1.release()\n",
    "    \n",
    "def f2():\n",
    "    verrou2.acquire()\n",
    "    print(\"Section critique 2.1\")\n",
    "    verrou1.acquire()\n",
    "    print(\"Section critique 2.2\")\n",
    "    verrou1.release()\n",
    "    verrou2.release()\n",
    "\n",
    "t1 = threading.Thread(target=f1, args=[])\n",
    "t2 = threading.Thread(target=f2, args=[])\n",
    "\n",
    "t1.start()\n",
    "t2.start()"
   ]
  }
 ],
 "metadata": {
  "kernelspec": {
   "display_name": "Python 3",
   "language": "python",
   "name": "python3"
  },
  "language_info": {
   "codemirror_mode": {
    "name": "ipython",
    "version": 3
   },
   "file_extension": ".py",
   "mimetype": "text/x-python",
   "name": "python",
   "nbconvert_exporter": "python",
   "pygments_lexer": "ipython3",
   "version": "3.7.8"
  }
 },
 "nbformat": 4,
 "nbformat_minor": 2
}
